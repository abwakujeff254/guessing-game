{
  "nbformat": 4,
  "nbformat_minor": 0,
  "metadata": {
    "colab": {
      "provenance": []
    },
    "kernelspec": {
      "name": "python3",
      "display_name": "Python 3"
    },
    "language_info": {
      "name": "python"
    }
  },
  "cells": [
    {
      "cell_type": "code",
      "execution_count": null,
      "metadata": {
        "colab": {
          "base_uri": "https://localhost:8080/"
        },
        "id": "Nwf53finmcL-",
        "outputId": "8d912310-3c55-498b-f130-87fdcf3a10ec"
      },
      "outputs": [
        {
          "output_type": "stream",
          "name": "stdout",
          "text": [
            "🎯 Welcome to the Number Guessing Game!\n",
            "I'm thinking of a number between 1 and 100...\n"
          ]
        }
      ],
      "source": [
        "import random\n",
        "\n",
        "def number_guessing_game():\n",
        "    print(\"🎯 Welcome to the Number Guessing Game!\")\n",
        "    print(\"I'm thinking of a number between 1 and 100...\")\n",
        "\n",
        "    # Generate a random number between 1 and 100\n",
        "    secret_number = random.randint(1, 100)\n",
        "    attempts = 0\n",
        "\n",
        "    while True:\n",
        "        try:\n",
        "            guess = int(input(\"👉 Enter your guess: \"))\n",
        "            attempts += 1\n",
        "\n",
        "            if guess < 1 or guess > 100:\n",
        "                print(\"❗ Please enter a number between 1 and 100.\")\n",
        "            elif guess < secret_number:\n",
        "                print(\"🔼 Too low! Try again.\")\n",
        "            elif guess > secret_number:\n",
        "                print(\"🔽 Too high! Try again.\")\n",
        "            else:\n",
        "                print(f\"🎉 Congratulations! You guessed the number in {attempts} attempts.\")\n",
        "                break\n",
        "        except ValueError:\n",
        "            print(\"⚠️ Invalid input. Please enter a valid number.\")\n",
        "\n",
        "# Run the game\n",
        "number_guessing_game()\n"
      ]
    },
    {
      "cell_type": "code",
      "source": [
        "import random\n",
        "\n",
        "def choose_difficulty():\n",
        "    print(\"\\nSelect a difficulty level:\")\n",
        "    print(\"1. Easy (10 attempts)\")\n",
        "    print(\"2. Medium (7 attempts)\")\n",
        "    print(\"3. Hard (5 attempts)\")\n",
        "\n",
        "    while True:\n",
        "        choice = input(\"Enter 1, 2 or 3: \")\n",
        "        if choice == '1':\n",
        "            return 10\n",
        "        elif choice == '2':\n",
        "            return 7\n",
        "        elif choice == '3':\n",
        "            return 5\n",
        "        else:\n",
        "            print(\"❗ Invalid choice. Please enter 1, 2, or 3.\")\n",
        "\n",
        "def play_game():\n",
        "    print(\"🎯 Welcome to the Number Guessing Game!\")\n",
        "    print(\"I'm thinking of a number between 1 and 100...\")\n",
        "\n",
        "    secret_number = random.randint(1, 100)\n",
        "    max_attempts = choose_difficulty()\n",
        "    attempts = 0\n",
        "\n",
        "    while attempts < max_attempts:\n",
        "        try:\n",
        "            guess = int(input(f\"\\nAttempt {attempts + 1} of {max_attempts} - Your guess: \"))\n",
        "\n",
        "            if guess < 1 or guess > 100:\n",
        "                print(\"⚠️ Please guess a number between 1 and 100.\")\n",
        "                continue\n",
        "\n",
        "            attempts += 1\n",
        "\n",
        "            if guess < secret_number:\n",
        "                print(\"🔼 Too low!\")\n",
        "            elif guess > secret_number:\n",
        "                print(\"🔽 Too high!\")\n",
        "            else:\n",
        "                print(f\"🎉 Correct! You guessed the number in {attempts} attempt(s).\")\n",
        "                break\n",
        "        except ValueError:\n",
        "            print(\"⚠️ Please enter a valid number.\")\n",
        "    else:\n",
        "        print(f\"\\n💥 You've run out of attempts! The number was {secret_number}.\")\n",
        "\n",
        "def start():\n",
        "    while True:\n",
        "        play_game()\n",
        "        again = input(\"\\n🔁 Do you want to play again? (yes/no): \").lower()\n",
        "        if again not in ['yes', 'y']:\n",
        "            print(\"👋 Thanks for playing! Goodbye!\")\n",
        "            break\n",
        "\n",
        "# Start the game\n",
        "start()\n"
      ],
      "metadata": {
        "id": "Q-F3EYU2mhvN"
      },
      "execution_count": null,
      "outputs": []
    },
    {
      "cell_type": "code",
      "source": [],
      "metadata": {
        "id": "SMTwgOmynwkg"
      },
      "execution_count": null,
      "outputs": []
    }
  ]
}